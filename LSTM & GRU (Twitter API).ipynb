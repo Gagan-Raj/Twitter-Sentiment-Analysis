{
 "cells": [
  {
   "cell_type": "code",
   "execution_count": 1,
   "id": "249ee4e9",
   "metadata": {
    "id": "249ee4e9"
   },
   "outputs": [
    {
     "name": "stderr",
     "output_type": "stream",
     "text": [
      "/Applications/anaconda3/lib/python3.9/site-packages/scipy/__init__.py:146: UserWarning: A NumPy version >=1.16.5 and <1.23.0 is required for this version of SciPy (detected version 1.24.3\n",
      "  warnings.warn(f\"A NumPy version >={np_minversion} and <{np_maxversion}\"\n",
      "2023-05-13 13:41:58.518446: I tensorflow/core/platform/cpu_feature_guard.cc:182] This TensorFlow binary is optimized to use available CPU instructions in performance-critical operations.\n",
      "To enable the following instructions: AVX2 FMA, in other operations, rebuild TensorFlow with the appropriate compiler flags.\n"
     ]
    }
   ],
   "source": [
    "import pandas as pd\n",
    "import numpy as np\n",
    "import matplotlib.pyplot as plt\n",
    "%matplotlib inline\n",
    "import seaborn as sns\n",
    "import nltk\n",
    "\n",
    "from nltk.tokenize import word_tokenize  # Split sentence into words and keep those words in form of a list\n",
    "from keras.preprocessing.text import Tokenizer  # Converts words into numeric values\n",
    "from tensorflow.keras.preprocessing.sequence import pad_sequences  # Equals all the sentences by filling 0\n",
    "from keras.models import Sequential\n",
    "from keras.layers import Embedding, LSTM, Dense, Dropout\n",
    "\n",
    "import warnings\n",
    "warnings.filterwarnings('ignore')"
   ]
  },
  {
   "cell_type": "code",
   "execution_count": 2,
   "id": "385eaef4",
   "metadata": {},
   "outputs": [],
   "source": [
    "tweet_df = pd.read_csv('Data/twitter_1.csv', encoding='ISO-8859-1', header=None).sample(frac=0.05).reset_index()"
   ]
  },
  {
   "cell_type": "code",
   "execution_count": 3,
   "id": "3fe9cff4",
   "metadata": {
    "id": "3fe9cff4",
    "outputId": "ef9210cb-1888-4f62-b982-2ffd032941ba"
   },
   "outputs": [
    {
     "data": {
      "text/html": [
       "<div>\n",
       "<style scoped>\n",
       "    .dataframe tbody tr th:only-of-type {\n",
       "        vertical-align: middle;\n",
       "    }\n",
       "\n",
       "    .dataframe tbody tr th {\n",
       "        vertical-align: top;\n",
       "    }\n",
       "\n",
       "    .dataframe thead th {\n",
       "        text-align: right;\n",
       "    }\n",
       "</style>\n",
       "<table border=\"1\" class=\"dataframe\">\n",
       "  <thead>\n",
       "    <tr style=\"text-align: right;\">\n",
       "      <th></th>\n",
       "      <th>index</th>\n",
       "      <th>0</th>\n",
       "      <th>1</th>\n",
       "      <th>2</th>\n",
       "      <th>3</th>\n",
       "      <th>4</th>\n",
       "      <th>5</th>\n",
       "    </tr>\n",
       "  </thead>\n",
       "  <tbody>\n",
       "    <tr>\n",
       "      <th>0</th>\n",
       "      <td>226683</td>\n",
       "      <td>0</td>\n",
       "      <td>1977903046</td>\n",
       "      <td>Sat May 30 21:58:21 PDT 2009</td>\n",
       "      <td>NO_QUERY</td>\n",
       "      <td>cocoachanel</td>\n",
       "      <td>@azizijones my bad! they took away the compute...</td>\n",
       "    </tr>\n",
       "    <tr>\n",
       "      <th>1</th>\n",
       "      <td>334673</td>\n",
       "      <td>0</td>\n",
       "      <td>2013626974</td>\n",
       "      <td>Tue Jun 02 23:08:52 PDT 2009</td>\n",
       "      <td>NO_QUERY</td>\n",
       "      <td>8beatbasic</td>\n",
       "      <td>No dancing for me tonight... Fairly bummed abo...</td>\n",
       "    </tr>\n",
       "    <tr>\n",
       "      <th>2</th>\n",
       "      <td>393247</td>\n",
       "      <td>0</td>\n",
       "      <td>2055352220</td>\n",
       "      <td>Sat Jun 06 09:09:36 PDT 2009</td>\n",
       "      <td>NO_QUERY</td>\n",
       "      <td>limeice</td>\n",
       "      <td>I'd prolly be in Bombay for half a day next Su...</td>\n",
       "    </tr>\n",
       "    <tr>\n",
       "      <th>3</th>\n",
       "      <td>638360</td>\n",
       "      <td>0</td>\n",
       "      <td>2234437414</td>\n",
       "      <td>Thu Jun 18 23:03:19 PDT 2009</td>\n",
       "      <td>NO_QUERY</td>\n",
       "      <td>ItsArianaFoo</td>\n",
       "      <td>I know  even though you still fell asleep a lo...</td>\n",
       "    </tr>\n",
       "    <tr>\n",
       "      <th>4</th>\n",
       "      <td>1044189</td>\n",
       "      <td>4</td>\n",
       "      <td>1957413054</td>\n",
       "      <td>Fri May 29 00:25:27 PDT 2009</td>\n",
       "      <td>NO_QUERY</td>\n",
       "      <td>rachelsaayWHAT</td>\n",
       "      <td>I got the b minor down. Slightly.</td>\n",
       "    </tr>\n",
       "    <tr>\n",
       "      <th>...</th>\n",
       "      <td>...</td>\n",
       "      <td>...</td>\n",
       "      <td>...</td>\n",
       "      <td>...</td>\n",
       "      <td>...</td>\n",
       "      <td>...</td>\n",
       "      <td>...</td>\n",
       "    </tr>\n",
       "    <tr>\n",
       "      <th>79995</th>\n",
       "      <td>808014</td>\n",
       "      <td>4</td>\n",
       "      <td>1469110786</td>\n",
       "      <td>Tue Apr 07 05:14:42 PDT 2009</td>\n",
       "      <td>NO_QUERY</td>\n",
       "      <td>yvonnert</td>\n",
       "      <td>@da_ewok  if you have  2 golden retrievers you...</td>\n",
       "    </tr>\n",
       "    <tr>\n",
       "      <th>79996</th>\n",
       "      <td>1027494</td>\n",
       "      <td>4</td>\n",
       "      <td>1932463125</td>\n",
       "      <td>Tue May 26 21:31:03 PDT 2009</td>\n",
       "      <td>NO_QUERY</td>\n",
       "      <td>rolly_h</td>\n",
       "      <td>@KimShahan: I'm still up 2... Who needs sleep ...</td>\n",
       "    </tr>\n",
       "    <tr>\n",
       "      <th>79997</th>\n",
       "      <td>1116164</td>\n",
       "      <td>4</td>\n",
       "      <td>1973088503</td>\n",
       "      <td>Sat May 30 10:27:47 PDT 2009</td>\n",
       "      <td>NO_QUERY</td>\n",
       "      <td>joshhalliday</td>\n",
       "      <td>So I'm hoping to break into Django/Python over...</td>\n",
       "    </tr>\n",
       "    <tr>\n",
       "      <th>79998</th>\n",
       "      <td>66700</td>\n",
       "      <td>0</td>\n",
       "      <td>1691932031</td>\n",
       "      <td>Sun May 03 18:55:15 PDT 2009</td>\n",
       "      <td>NO_QUERY</td>\n",
       "      <td>Ari978</td>\n",
       "      <td>@hermorrine  Car stereo??  I'm sorry she's sti...</td>\n",
       "    </tr>\n",
       "    <tr>\n",
       "      <th>79999</th>\n",
       "      <td>557170</td>\n",
       "      <td>0</td>\n",
       "      <td>2204449186</td>\n",
       "      <td>Wed Jun 17 02:14:46 PDT 2009</td>\n",
       "      <td>NO_QUERY</td>\n",
       "      <td>sheseesred</td>\n",
       "      <td>jealous of both @AgeC and @BrandDNA. i tried f...</td>\n",
       "    </tr>\n",
       "  </tbody>\n",
       "</table>\n",
       "<p>80000 rows × 7 columns</p>\n",
       "</div>"
      ],
      "text/plain": [
       "         index  0           1                             2         3   \n",
       "0       226683  0  1977903046  Sat May 30 21:58:21 PDT 2009  NO_QUERY  \\\n",
       "1       334673  0  2013626974  Tue Jun 02 23:08:52 PDT 2009  NO_QUERY   \n",
       "2       393247  0  2055352220  Sat Jun 06 09:09:36 PDT 2009  NO_QUERY   \n",
       "3       638360  0  2234437414  Thu Jun 18 23:03:19 PDT 2009  NO_QUERY   \n",
       "4      1044189  4  1957413054  Fri May 29 00:25:27 PDT 2009  NO_QUERY   \n",
       "...        ... ..         ...                           ...       ...   \n",
       "79995   808014  4  1469110786  Tue Apr 07 05:14:42 PDT 2009  NO_QUERY   \n",
       "79996  1027494  4  1932463125  Tue May 26 21:31:03 PDT 2009  NO_QUERY   \n",
       "79997  1116164  4  1973088503  Sat May 30 10:27:47 PDT 2009  NO_QUERY   \n",
       "79998    66700  0  1691932031  Sun May 03 18:55:15 PDT 2009  NO_QUERY   \n",
       "79999   557170  0  2204449186  Wed Jun 17 02:14:46 PDT 2009  NO_QUERY   \n",
       "\n",
       "                    4                                                  5  \n",
       "0         cocoachanel  @azizijones my bad! they took away the compute...  \n",
       "1          8beatbasic  No dancing for me tonight... Fairly bummed abo...  \n",
       "2             limeice  I'd prolly be in Bombay for half a day next Su...  \n",
       "3        ItsArianaFoo  I know  even though you still fell asleep a lo...  \n",
       "4      rachelsaayWHAT                 I got the b minor down. Slightly.   \n",
       "...               ...                                                ...  \n",
       "79995        yvonnert  @da_ewok  if you have  2 golden retrievers you...  \n",
       "79996         rolly_h  @KimShahan: I'm still up 2... Who needs sleep ...  \n",
       "79997    joshhalliday  So I'm hoping to break into Django/Python over...  \n",
       "79998          Ari978  @hermorrine  Car stereo??  I'm sorry she's sti...  \n",
       "79999      sheseesred  jealous of both @AgeC and @BrandDNA. i tried f...  \n",
       "\n",
       "[80000 rows x 7 columns]"
      ]
     },
     "execution_count": 3,
     "metadata": {},
     "output_type": "execute_result"
    }
   ],
   "source": [
    "tweet_df"
   ]
  },
  {
   "cell_type": "code",
   "execution_count": 4,
   "id": "cb2011dd",
   "metadata": {
    "id": "cb2011dd"
   },
   "outputs": [],
   "source": [
    "tweet_df.columns = ['index','sentiment', 'id', 'date', 'query', 'user_name', 'tweet']"
   ]
  },
  {
   "cell_type": "code",
   "execution_count": 5,
   "id": "17b3bfc9",
   "metadata": {
    "id": "17b3bfc9",
    "outputId": "a0851199-5006-496a-fc1e-7f012a280085"
   },
   "outputs": [
    {
     "data": {
      "text/html": [
       "<div>\n",
       "<style scoped>\n",
       "    .dataframe tbody tr th:only-of-type {\n",
       "        vertical-align: middle;\n",
       "    }\n",
       "\n",
       "    .dataframe tbody tr th {\n",
       "        vertical-align: top;\n",
       "    }\n",
       "\n",
       "    .dataframe thead th {\n",
       "        text-align: right;\n",
       "    }\n",
       "</style>\n",
       "<table border=\"1\" class=\"dataframe\">\n",
       "  <thead>\n",
       "    <tr style=\"text-align: right;\">\n",
       "      <th></th>\n",
       "      <th>index</th>\n",
       "      <th>sentiment</th>\n",
       "      <th>id</th>\n",
       "      <th>date</th>\n",
       "      <th>query</th>\n",
       "      <th>user_name</th>\n",
       "      <th>tweet</th>\n",
       "    </tr>\n",
       "  </thead>\n",
       "  <tbody>\n",
       "    <tr>\n",
       "      <th>0</th>\n",
       "      <td>226683</td>\n",
       "      <td>0</td>\n",
       "      <td>1977903046</td>\n",
       "      <td>Sat May 30 21:58:21 PDT 2009</td>\n",
       "      <td>NO_QUERY</td>\n",
       "      <td>cocoachanel</td>\n",
       "      <td>@azizijones my bad! they took away the compute...</td>\n",
       "    </tr>\n",
       "    <tr>\n",
       "      <th>1</th>\n",
       "      <td>334673</td>\n",
       "      <td>0</td>\n",
       "      <td>2013626974</td>\n",
       "      <td>Tue Jun 02 23:08:52 PDT 2009</td>\n",
       "      <td>NO_QUERY</td>\n",
       "      <td>8beatbasic</td>\n",
       "      <td>No dancing for me tonight... Fairly bummed abo...</td>\n",
       "    </tr>\n",
       "    <tr>\n",
       "      <th>2</th>\n",
       "      <td>393247</td>\n",
       "      <td>0</td>\n",
       "      <td>2055352220</td>\n",
       "      <td>Sat Jun 06 09:09:36 PDT 2009</td>\n",
       "      <td>NO_QUERY</td>\n",
       "      <td>limeice</td>\n",
       "      <td>I'd prolly be in Bombay for half a day next Su...</td>\n",
       "    </tr>\n",
       "    <tr>\n",
       "      <th>3</th>\n",
       "      <td>638360</td>\n",
       "      <td>0</td>\n",
       "      <td>2234437414</td>\n",
       "      <td>Thu Jun 18 23:03:19 PDT 2009</td>\n",
       "      <td>NO_QUERY</td>\n",
       "      <td>ItsArianaFoo</td>\n",
       "      <td>I know  even though you still fell asleep a lo...</td>\n",
       "    </tr>\n",
       "    <tr>\n",
       "      <th>4</th>\n",
       "      <td>1044189</td>\n",
       "      <td>4</td>\n",
       "      <td>1957413054</td>\n",
       "      <td>Fri May 29 00:25:27 PDT 2009</td>\n",
       "      <td>NO_QUERY</td>\n",
       "      <td>rachelsaayWHAT</td>\n",
       "      <td>I got the b minor down. Slightly.</td>\n",
       "    </tr>\n",
       "    <tr>\n",
       "      <th>...</th>\n",
       "      <td>...</td>\n",
       "      <td>...</td>\n",
       "      <td>...</td>\n",
       "      <td>...</td>\n",
       "      <td>...</td>\n",
       "      <td>...</td>\n",
       "      <td>...</td>\n",
       "    </tr>\n",
       "    <tr>\n",
       "      <th>79995</th>\n",
       "      <td>808014</td>\n",
       "      <td>4</td>\n",
       "      <td>1469110786</td>\n",
       "      <td>Tue Apr 07 05:14:42 PDT 2009</td>\n",
       "      <td>NO_QUERY</td>\n",
       "      <td>yvonnert</td>\n",
       "      <td>@da_ewok  if you have  2 golden retrievers you...</td>\n",
       "    </tr>\n",
       "    <tr>\n",
       "      <th>79996</th>\n",
       "      <td>1027494</td>\n",
       "      <td>4</td>\n",
       "      <td>1932463125</td>\n",
       "      <td>Tue May 26 21:31:03 PDT 2009</td>\n",
       "      <td>NO_QUERY</td>\n",
       "      <td>rolly_h</td>\n",
       "      <td>@KimShahan: I'm still up 2... Who needs sleep ...</td>\n",
       "    </tr>\n",
       "    <tr>\n",
       "      <th>79997</th>\n",
       "      <td>1116164</td>\n",
       "      <td>4</td>\n",
       "      <td>1973088503</td>\n",
       "      <td>Sat May 30 10:27:47 PDT 2009</td>\n",
       "      <td>NO_QUERY</td>\n",
       "      <td>joshhalliday</td>\n",
       "      <td>So I'm hoping to break into Django/Python over...</td>\n",
       "    </tr>\n",
       "    <tr>\n",
       "      <th>79998</th>\n",
       "      <td>66700</td>\n",
       "      <td>0</td>\n",
       "      <td>1691932031</td>\n",
       "      <td>Sun May 03 18:55:15 PDT 2009</td>\n",
       "      <td>NO_QUERY</td>\n",
       "      <td>Ari978</td>\n",
       "      <td>@hermorrine  Car stereo??  I'm sorry she's sti...</td>\n",
       "    </tr>\n",
       "    <tr>\n",
       "      <th>79999</th>\n",
       "      <td>557170</td>\n",
       "      <td>0</td>\n",
       "      <td>2204449186</td>\n",
       "      <td>Wed Jun 17 02:14:46 PDT 2009</td>\n",
       "      <td>NO_QUERY</td>\n",
       "      <td>sheseesred</td>\n",
       "      <td>jealous of both @AgeC and @BrandDNA. i tried f...</td>\n",
       "    </tr>\n",
       "  </tbody>\n",
       "</table>\n",
       "<p>80000 rows × 7 columns</p>\n",
       "</div>"
      ],
      "text/plain": [
       "         index  sentiment          id                          date     query   \n",
       "0       226683          0  1977903046  Sat May 30 21:58:21 PDT 2009  NO_QUERY  \\\n",
       "1       334673          0  2013626974  Tue Jun 02 23:08:52 PDT 2009  NO_QUERY   \n",
       "2       393247          0  2055352220  Sat Jun 06 09:09:36 PDT 2009  NO_QUERY   \n",
       "3       638360          0  2234437414  Thu Jun 18 23:03:19 PDT 2009  NO_QUERY   \n",
       "4      1044189          4  1957413054  Fri May 29 00:25:27 PDT 2009  NO_QUERY   \n",
       "...        ...        ...         ...                           ...       ...   \n",
       "79995   808014          4  1469110786  Tue Apr 07 05:14:42 PDT 2009  NO_QUERY   \n",
       "79996  1027494          4  1932463125  Tue May 26 21:31:03 PDT 2009  NO_QUERY   \n",
       "79997  1116164          4  1973088503  Sat May 30 10:27:47 PDT 2009  NO_QUERY   \n",
       "79998    66700          0  1691932031  Sun May 03 18:55:15 PDT 2009  NO_QUERY   \n",
       "79999   557170          0  2204449186  Wed Jun 17 02:14:46 PDT 2009  NO_QUERY   \n",
       "\n",
       "            user_name                                              tweet  \n",
       "0         cocoachanel  @azizijones my bad! they took away the compute...  \n",
       "1          8beatbasic  No dancing for me tonight... Fairly bummed abo...  \n",
       "2             limeice  I'd prolly be in Bombay for half a day next Su...  \n",
       "3        ItsArianaFoo  I know  even though you still fell asleep a lo...  \n",
       "4      rachelsaayWHAT                 I got the b minor down. Slightly.   \n",
       "...               ...                                                ...  \n",
       "79995        yvonnert  @da_ewok  if you have  2 golden retrievers you...  \n",
       "79996         rolly_h  @KimShahan: I'm still up 2... Who needs sleep ...  \n",
       "79997    joshhalliday  So I'm hoping to break into Django/Python over...  \n",
       "79998          Ari978  @hermorrine  Car stereo??  I'm sorry she's sti...  \n",
       "79999      sheseesred  jealous of both @AgeC and @BrandDNA. i tried f...  \n",
       "\n",
       "[80000 rows x 7 columns]"
      ]
     },
     "execution_count": 5,
     "metadata": {},
     "output_type": "execute_result"
    }
   ],
   "source": [
    "tweet_df"
   ]
  },
  {
   "cell_type": "code",
   "execution_count": 6,
   "id": "69845ac8",
   "metadata": {
    "id": "69845ac8"
   },
   "outputs": [],
   "source": [
    "tweet_df.drop(['index','id', 'date', 'query', 'user_name'], inplace=True, axis=1)"
   ]
  },
  {
   "cell_type": "code",
   "execution_count": 7,
   "id": "f3d8e180",
   "metadata": {
    "id": "f3d8e180",
    "outputId": "c61114ef-6399-4ddb-f409-500058837523"
   },
   "outputs": [
    {
     "data": {
      "text/html": [
       "<div>\n",
       "<style scoped>\n",
       "    .dataframe tbody tr th:only-of-type {\n",
       "        vertical-align: middle;\n",
       "    }\n",
       "\n",
       "    .dataframe tbody tr th {\n",
       "        vertical-align: top;\n",
       "    }\n",
       "\n",
       "    .dataframe thead th {\n",
       "        text-align: right;\n",
       "    }\n",
       "</style>\n",
       "<table border=\"1\" class=\"dataframe\">\n",
       "  <thead>\n",
       "    <tr style=\"text-align: right;\">\n",
       "      <th></th>\n",
       "      <th>sentiment</th>\n",
       "      <th>tweet</th>\n",
       "    </tr>\n",
       "  </thead>\n",
       "  <tbody>\n",
       "    <tr>\n",
       "      <th>0</th>\n",
       "      <td>0</td>\n",
       "      <td>@azizijones my bad! they took away the compute...</td>\n",
       "    </tr>\n",
       "    <tr>\n",
       "      <th>1</th>\n",
       "      <td>0</td>\n",
       "      <td>No dancing for me tonight... Fairly bummed abo...</td>\n",
       "    </tr>\n",
       "    <tr>\n",
       "      <th>2</th>\n",
       "      <td>0</td>\n",
       "      <td>I'd prolly be in Bombay for half a day next Su...</td>\n",
       "    </tr>\n",
       "    <tr>\n",
       "      <th>3</th>\n",
       "      <td>0</td>\n",
       "      <td>I know  even though you still fell asleep a lo...</td>\n",
       "    </tr>\n",
       "    <tr>\n",
       "      <th>4</th>\n",
       "      <td>4</td>\n",
       "      <td>I got the b minor down. Slightly.</td>\n",
       "    </tr>\n",
       "    <tr>\n",
       "      <th>...</th>\n",
       "      <td>...</td>\n",
       "      <td>...</td>\n",
       "    </tr>\n",
       "    <tr>\n",
       "      <th>79995</th>\n",
       "      <td>4</td>\n",
       "      <td>@da_ewok  if you have  2 golden retrievers you...</td>\n",
       "    </tr>\n",
       "    <tr>\n",
       "      <th>79996</th>\n",
       "      <td>4</td>\n",
       "      <td>@KimShahan: I'm still up 2... Who needs sleep ...</td>\n",
       "    </tr>\n",
       "    <tr>\n",
       "      <th>79997</th>\n",
       "      <td>4</td>\n",
       "      <td>So I'm hoping to break into Django/Python over...</td>\n",
       "    </tr>\n",
       "    <tr>\n",
       "      <th>79998</th>\n",
       "      <td>0</td>\n",
       "      <td>@hermorrine  Car stereo??  I'm sorry she's sti...</td>\n",
       "    </tr>\n",
       "    <tr>\n",
       "      <th>79999</th>\n",
       "      <td>0</td>\n",
       "      <td>jealous of both @AgeC and @BrandDNA. i tried f...</td>\n",
       "    </tr>\n",
       "  </tbody>\n",
       "</table>\n",
       "<p>80000 rows × 2 columns</p>\n",
       "</div>"
      ],
      "text/plain": [
       "       sentiment                                              tweet\n",
       "0              0  @azizijones my bad! they took away the compute...\n",
       "1              0  No dancing for me tonight... Fairly bummed abo...\n",
       "2              0  I'd prolly be in Bombay for half a day next Su...\n",
       "3              0  I know  even though you still fell asleep a lo...\n",
       "4              4                 I got the b minor down. Slightly. \n",
       "...          ...                                                ...\n",
       "79995          4  @da_ewok  if you have  2 golden retrievers you...\n",
       "79996          4  @KimShahan: I'm still up 2... Who needs sleep ...\n",
       "79997          4  So I'm hoping to break into Django/Python over...\n",
       "79998          0  @hermorrine  Car stereo??  I'm sorry she's sti...\n",
       "79999          0  jealous of both @AgeC and @BrandDNA. i tried f...\n",
       "\n",
       "[80000 rows x 2 columns]"
      ]
     },
     "execution_count": 7,
     "metadata": {},
     "output_type": "execute_result"
    }
   ],
   "source": [
    "tweet_df"
   ]
  },
  {
   "cell_type": "code",
   "execution_count": 8,
   "id": "7e90fb80",
   "metadata": {
    "id": "7e90fb80",
    "outputId": "3230f2c3-d58e-453c-ef92-2e961fea9902"
   },
   "outputs": [
    {
     "data": {
      "text/plain": [
       "sentiment\n",
       "0    40112\n",
       "4    39888\n",
       "Name: count, dtype: int64"
      ]
     },
     "execution_count": 8,
     "metadata": {},
     "output_type": "execute_result"
    }
   ],
   "source": [
    "tweet_df.sentiment.value_counts()"
   ]
  },
  {
   "cell_type": "markdown",
   "id": "dcf4f0d4",
   "metadata": {},
   "source": [
    "### Data Visualisation"
   ]
  },
  {
   "cell_type": "code",
   "execution_count": 9,
   "id": "89b7f456",
   "metadata": {
    "id": "89b7f456",
    "outputId": "f06aed4f-f181-4116-9d66-9381259993b5",
    "scrolled": false
   },
   "outputs": [
    {
     "data": {
      "text/plain": [
       "<AxesSubplot:xlabel='sentiment', ylabel='count'>"
      ]
     },
     "execution_count": 9,
     "metadata": {},
     "output_type": "execute_result"
    },
    {
     "data": {
      "image/png": "[encoded data removed]",
      "text/plain": [
       "<Figure size 640x480 with 1 Axes>"
      ]
     },
     "metadata": {},
     "output_type": "display_data"
    }
   ],
   "source": [
    "sns.countplot(data=tweet_df, x='sentiment')"
   ]
  },
  {
   "cell_type": "markdown",
   "id": "a852a023",
   "metadata": {},
   "source": [
    "### Data Pre-Processing"
   ]
  },
  {
   "cell_type": "code",
   "execution_count": 12,
   "id": "b879e4e1",
   "metadata": {},
   "outputs": [
    {
     "name": "stderr",
     "output_type": "stream",
     "text": [
      "[nltk_data] Downloading package punkt to\n",
      "[nltk_data]     /Users/shashivarna/nltk_data...\n",
      "[nltk_data]   Unzipping tokenizers/punkt.zip.\n"
     ]
    },
    {
     "data": {
      "text/plain": [
       "True"
      ]
     },
     "execution_count": 12,
     "metadata": {},
     "output_type": "execute_result"
    }
   ],
   "source": [
    "import nltk\n",
    "nltk.download('punkt')"
   ]
  },
  {
   "cell_type": "code",
   "execution_count": 13,
   "id": "cdad2d6b",
   "metadata": {
    "id": "cdad2d6b",
    "outputId": "2067411e-98d7-415a-d587-9fb6e10aa89a"
   },
   "outputs": [
    {
     "name": "stdout",
     "output_type": "stream",
     "text": [
      "@azizijones my bad! they took away the computer from me \n",
      "['@', 'azizijones', 'my', 'bad', '!', 'they', 'took', 'away', 'the', 'computer', 'from', 'me']\n"
     ]
    }
   ],
   "source": [
    "text_1 = tweet_df['tweet'][0]\n",
    "print(text_1)\n",
    "\n",
    "print(word_tokenize(text_1))"
   ]
  },
  {
   "cell_type": "code",
   "execution_count": 14,
   "id": "fcd2e948",
   "metadata": {
    "id": "fcd2e948"
   },
   "outputs": [],
   "source": [
    "corpus=[]\n",
    "for text in tweet_df['tweet']:\n",
    "    words = [word.lower() for word in word_tokenize(text)]\n",
    "    corpus.append(words)"
   ]
  },
  {
   "cell_type": "code",
   "execution_count": 15,
   "id": "9f3f2dac",
   "metadata": {
    "id": "9f3f2dac",
    "outputId": "7ed36470-2eb4-4967-be60-959f7f5df1cc"
   },
   "outputs": [
    {
     "name": "stdout",
     "output_type": "stream",
     "text": [
      "80000\n"
     ]
    }
   ],
   "source": [
    "num_words=len(corpus)\n",
    "print(num_words)"
   ]
  },
  {
   "cell_type": "code",
   "execution_count": 16,
   "id": "08a0418e",
   "metadata": {
    "id": "08a0418e",
    "outputId": "21d0c916-5b83-496d-9491-2ecd96a720d7"
   },
   "outputs": [
    {
     "data": {
      "text/plain": [
       "(80000, 2)"
      ]
     },
     "execution_count": 16,
     "metadata": {},
     "output_type": "execute_result"
    }
   ],
   "source": [
    "tweet_df.shape"
   ]
  },
  {
   "cell_type": "code",
   "execution_count": 17,
   "id": "6b109a06",
   "metadata": {
    "id": "6b109a06"
   },
   "outputs": [],
   "source": [
    "tweet_df['tweet']=tweet_df['tweet'].str.lower()"
   ]
  },
  {
   "cell_type": "code",
   "execution_count": 18,
   "id": "0883c63c",
   "metadata": {
    "id": "0883c63c",
    "outputId": "5505b2b7-44b3-41bf-b1ca-84493a017137"
   },
   "outputs": [
    {
     "data": {
      "text/html": [
       "<div>\n",
       "<style scoped>\n",
       "    .dataframe tbody tr th:only-of-type {\n",
       "        vertical-align: middle;\n",
       "    }\n",
       "\n",
       "    .dataframe tbody tr th {\n",
       "        vertical-align: top;\n",
       "    }\n",
       "\n",
       "    .dataframe thead th {\n",
       "        text-align: right;\n",
       "    }\n",
       "</style>\n",
       "<table border=\"1\" class=\"dataframe\">\n",
       "  <thead>\n",
       "    <tr style=\"text-align: right;\">\n",
       "      <th></th>\n",
       "      <th>sentiment</th>\n",
       "      <th>tweet</th>\n",
       "    </tr>\n",
       "  </thead>\n",
       "  <tbody>\n",
       "    <tr>\n",
       "      <th>0</th>\n",
       "      <td>0</td>\n",
       "      <td>@azizijones my bad! they took away the compute...</td>\n",
       "    </tr>\n",
       "    <tr>\n",
       "      <th>1</th>\n",
       "      <td>0</td>\n",
       "      <td>no dancing for me tonight... fairly bummed abo...</td>\n",
       "    </tr>\n",
       "    <tr>\n",
       "      <th>2</th>\n",
       "      <td>0</td>\n",
       "      <td>i'd prolly be in bombay for half a day next su...</td>\n",
       "    </tr>\n",
       "    <tr>\n",
       "      <th>3</th>\n",
       "      <td>0</td>\n",
       "      <td>i know  even though you still fell asleep a lo...</td>\n",
       "    </tr>\n",
       "    <tr>\n",
       "      <th>4</th>\n",
       "      <td>4</td>\n",
       "      <td>i got the b minor down. slightly.</td>\n",
       "    </tr>\n",
       "    <tr>\n",
       "      <th>...</th>\n",
       "      <td>...</td>\n",
       "      <td>...</td>\n",
       "    </tr>\n",
       "    <tr>\n",
       "      <th>79995</th>\n",
       "      <td>4</td>\n",
       "      <td>@da_ewok  if you have  2 golden retrievers you...</td>\n",
       "    </tr>\n",
       "    <tr>\n",
       "      <th>79996</th>\n",
       "      <td>4</td>\n",
       "      <td>@kimshahan: i'm still up 2... who needs sleep ...</td>\n",
       "    </tr>\n",
       "    <tr>\n",
       "      <th>79997</th>\n",
       "      <td>4</td>\n",
       "      <td>so i'm hoping to break into django/python over...</td>\n",
       "    </tr>\n",
       "    <tr>\n",
       "      <th>79998</th>\n",
       "      <td>0</td>\n",
       "      <td>@hermorrine  car stereo??  i'm sorry she's sti...</td>\n",
       "    </tr>\n",
       "    <tr>\n",
       "      <th>79999</th>\n",
       "      <td>0</td>\n",
       "      <td>jealous of both @agec and @branddna. i tried f...</td>\n",
       "    </tr>\n",
       "  </tbody>\n",
       "</table>\n",
       "<p>80000 rows × 2 columns</p>\n",
       "</div>"
      ],
      "text/plain": [
       "       sentiment                                              tweet\n",
       "0              0  @azizijones my bad! they took away the compute...\n",
       "1              0  no dancing for me tonight... fairly bummed abo...\n",
       "2              0  i'd prolly be in bombay for half a day next su...\n",
       "3              0  i know  even though you still fell asleep a lo...\n",
       "4              4                 i got the b minor down. slightly. \n",
       "...          ...                                                ...\n",
       "79995          4  @da_ewok  if you have  2 golden retrievers you...\n",
       "79996          4  @kimshahan: i'm still up 2... who needs sleep ...\n",
       "79997          4  so i'm hoping to break into django/python over...\n",
       "79998          0  @hermorrine  car stereo??  i'm sorry she's sti...\n",
       "79999          0  jealous of both @agec and @branddna. i tried f...\n",
       "\n",
       "[80000 rows x 2 columns]"
      ]
     },
     "execution_count": 18,
     "metadata": {},
     "output_type": "execute_result"
    }
   ],
   "source": [
    "tweet_df"
   ]
  },
  {
   "cell_type": "code",
   "execution_count": 19,
   "id": "bcbfe477",
   "metadata": {
    "id": "bcbfe477",
    "outputId": "9233cd12-117a-4aa2-fbda-8f09e71c781c"
   },
   "outputs": [
    {
     "data": {
      "text/plain": [
       "179"
      ]
     },
     "execution_count": 19,
     "metadata": {},
     "output_type": "execute_result"
    }
   ],
   "source": [
    "from nltk.corpus import stopwords\n",
    "stpwrds = stopwords.words('english')\n",
    "len(stpwrds)"
   ]
  },
  {
   "cell_type": "code",
   "execution_count": 20,
   "id": "3869cbfd",
   "metadata": {
    "id": "3869cbfd"
   },
   "outputs": [],
   "source": [
    "# Removing stopwords from the review column\n",
    "tweet_df['tweet']=tweet_df['tweet'].apply(lambda x:\" \".join(word for word in x.split() if word not in stpwrds))"
   ]
  },
  {
   "cell_type": "code",
   "execution_count": 21,
   "id": "ff7bb1a6",
   "metadata": {
    "id": "ff7bb1a6",
    "outputId": "a902adc3-bdbb-45f4-cdf0-29913101f7cb"
   },
   "outputs": [
    {
     "data": {
      "text/html": [
       "<div>\n",
       "<style scoped>\n",
       "    .dataframe tbody tr th:only-of-type {\n",
       "        vertical-align: middle;\n",
       "    }\n",
       "\n",
       "    .dataframe tbody tr th {\n",
       "        vertical-align: top;\n",
       "    }\n",
       "\n",
       "    .dataframe thead th {\n",
       "        text-align: right;\n",
       "    }\n",
       "</style>\n",
       "<table border=\"1\" class=\"dataframe\">\n",
       "  <thead>\n",
       "    <tr style=\"text-align: right;\">\n",
       "      <th></th>\n",
       "      <th>sentiment</th>\n",
       "      <th>tweet</th>\n",
       "    </tr>\n",
       "  </thead>\n",
       "  <tbody>\n",
       "    <tr>\n",
       "      <th>0</th>\n",
       "      <td>0</td>\n",
       "      <td>@azizijones bad! took away computer</td>\n",
       "    </tr>\n",
       "    <tr>\n",
       "      <th>1</th>\n",
       "      <td>0</td>\n",
       "      <td>dancing tonight... fairly bummed</td>\n",
       "    </tr>\n",
       "    <tr>\n",
       "      <th>2</th>\n",
       "      <td>0</td>\n",
       "      <td>i'd prolly bombay half day next sunday.. wish ...</td>\n",
       "    </tr>\n",
       "    <tr>\n",
       "      <th>3</th>\n",
       "      <td>0</td>\n",
       "      <td>know even though still fell asleep lot! haha s...</td>\n",
       "    </tr>\n",
       "    <tr>\n",
       "      <th>4</th>\n",
       "      <td>4</td>\n",
       "      <td>got b minor down. slightly.</td>\n",
       "    </tr>\n",
       "    <tr>\n",
       "      <th>...</th>\n",
       "      <td>...</td>\n",
       "      <td>...</td>\n",
       "    </tr>\n",
       "    <tr>\n",
       "      <th>79995</th>\n",
       "      <td>4</td>\n",
       "      <td>@da_ewok 2 golden retrievers never ever bored</td>\n",
       "    </tr>\n",
       "    <tr>\n",
       "      <th>79996</th>\n",
       "      <td>4</td>\n",
       "      <td>@kimshahan: i'm still 2... needs sleep anyways</td>\n",
       "    </tr>\n",
       "    <tr>\n",
       "      <th>79997</th>\n",
       "      <td>4</td>\n",
       "      <td>i'm hoping break django/python summer (http://...</td>\n",
       "    </tr>\n",
       "    <tr>\n",
       "      <th>79998</th>\n",
       "      <td>0</td>\n",
       "      <td>@hermorrine car stereo?? i'm sorry still feeli...</td>\n",
       "    </tr>\n",
       "    <tr>\n",
       "      <th>79999</th>\n",
       "      <td>0</td>\n",
       "      <td>jealous @agec @branddna. tried free tix, avail</td>\n",
       "    </tr>\n",
       "  </tbody>\n",
       "</table>\n",
       "<p>80000 rows × 2 columns</p>\n",
       "</div>"
      ],
      "text/plain": [
       "       sentiment                                              tweet\n",
       "0              0                @azizijones bad! took away computer\n",
       "1              0                   dancing tonight... fairly bummed\n",
       "2              0  i'd prolly bombay half day next sunday.. wish ...\n",
       "3              0  know even though still fell asleep lot! haha s...\n",
       "4              4                        got b minor down. slightly.\n",
       "...          ...                                                ...\n",
       "79995          4      @da_ewok 2 golden retrievers never ever bored\n",
       "79996          4     @kimshahan: i'm still 2... needs sleep anyways\n",
       "79997          4  i'm hoping break django/python summer (http://...\n",
       "79998          0  @hermorrine car stereo?? i'm sorry still feeli...\n",
       "79999          0     jealous @agec @branddna. tried free tix, avail\n",
       "\n",
       "[80000 rows x 2 columns]"
      ]
     },
     "execution_count": 21,
     "metadata": {},
     "output_type": "execute_result"
    }
   ],
   "source": [
    "tweet_df"
   ]
  },
  {
   "cell_type": "code",
   "execution_count": 22,
   "id": "6d3440e6",
   "metadata": {
    "id": "6d3440e6"
   },
   "outputs": [],
   "source": [
    "import string # special operations on strings like removing the punctuations from the sentences\n",
    "def remove_punc(text):\n",
    "    no_punc= text.translate(str.maketrans('', '', string.punctuation))\n",
    "    return no_punc"
   ]
  },
  {
   "cell_type": "code",
   "execution_count": 23,
   "id": "7d6a606d",
   "metadata": {
    "id": "7d6a606d"
   },
   "outputs": [],
   "source": [
    "tweet_df['tweet']=tweet_df['tweet'].apply(remove_punc)"
   ]
  },
  {
   "cell_type": "code",
   "execution_count": 24,
   "id": "18786951",
   "metadata": {
    "id": "18786951",
    "outputId": "503fc37d-7959-4341-ea97-c9753636be3b"
   },
   "outputs": [
    {
     "data": {
      "text/html": [
       "<div>\n",
       "<style scoped>\n",
       "    .dataframe tbody tr th:only-of-type {\n",
       "        vertical-align: middle;\n",
       "    }\n",
       "\n",
       "    .dataframe tbody tr th {\n",
       "        vertical-align: top;\n",
       "    }\n",
       "\n",
       "    .dataframe thead th {\n",
       "        text-align: right;\n",
       "    }\n",
       "</style>\n",
       "<table border=\"1\" class=\"dataframe\">\n",
       "  <thead>\n",
       "    <tr style=\"text-align: right;\">\n",
       "      <th></th>\n",
       "      <th>sentiment</th>\n",
       "      <th>tweet</th>\n",
       "    </tr>\n",
       "  </thead>\n",
       "  <tbody>\n",
       "    <tr>\n",
       "      <th>0</th>\n",
       "      <td>0</td>\n",
       "      <td>azizijones bad took away computer</td>\n",
       "    </tr>\n",
       "    <tr>\n",
       "      <th>1</th>\n",
       "      <td>0</td>\n",
       "      <td>dancing tonight fairly bummed</td>\n",
       "    </tr>\n",
       "    <tr>\n",
       "      <th>2</th>\n",
       "      <td>0</td>\n",
       "      <td>id prolly bombay half day next sunday wish cou...</td>\n",
       "    </tr>\n",
       "    <tr>\n",
       "      <th>3</th>\n",
       "      <td>0</td>\n",
       "      <td>know even though still fell asleep lot haha sh...</td>\n",
       "    </tr>\n",
       "    <tr>\n",
       "      <th>4</th>\n",
       "      <td>4</td>\n",
       "      <td>got b minor down slightly</td>\n",
       "    </tr>\n",
       "    <tr>\n",
       "      <th>...</th>\n",
       "      <td>...</td>\n",
       "      <td>...</td>\n",
       "    </tr>\n",
       "    <tr>\n",
       "      <th>79995</th>\n",
       "      <td>4</td>\n",
       "      <td>daewok 2 golden retrievers never ever bored</td>\n",
       "    </tr>\n",
       "    <tr>\n",
       "      <th>79996</th>\n",
       "      <td>4</td>\n",
       "      <td>kimshahan im still 2 needs sleep anyways</td>\n",
       "    </tr>\n",
       "    <tr>\n",
       "      <th>79997</th>\n",
       "      <td>4</td>\n",
       "      <td>im hoping break djangopython summer httpisgdjz...</td>\n",
       "    </tr>\n",
       "    <tr>\n",
       "      <th>79998</th>\n",
       "      <td>0</td>\n",
       "      <td>hermorrine car stereo im sorry still feeling w...</td>\n",
       "    </tr>\n",
       "    <tr>\n",
       "      <th>79999</th>\n",
       "      <td>0</td>\n",
       "      <td>jealous agec branddna tried free tix avail</td>\n",
       "    </tr>\n",
       "  </tbody>\n",
       "</table>\n",
       "<p>80000 rows × 2 columns</p>\n",
       "</div>"
      ],
      "text/plain": [
       "       sentiment                                              tweet\n",
       "0              0                  azizijones bad took away computer\n",
       "1              0                      dancing tonight fairly bummed\n",
       "2              0  id prolly bombay half day next sunday wish cou...\n",
       "3              0  know even though still fell asleep lot haha sh...\n",
       "4              4                          got b minor down slightly\n",
       "...          ...                                                ...\n",
       "79995          4        daewok 2 golden retrievers never ever bored\n",
       "79996          4           kimshahan im still 2 needs sleep anyways\n",
       "79997          4  im hoping break djangopython summer httpisgdjz...\n",
       "79998          0  hermorrine car stereo im sorry still feeling w...\n",
       "79999          0         jealous agec branddna tried free tix avail\n",
       "\n",
       "[80000 rows x 2 columns]"
      ]
     },
     "execution_count": 24,
     "metadata": {},
     "output_type": "execute_result"
    }
   ],
   "source": [
    "tweet_df"
   ]
  },
  {
   "cell_type": "markdown",
   "id": "86f96c7d",
   "metadata": {},
   "source": [
    "### Label Encoding"
   ]
  },
  {
   "cell_type": "code",
   "execution_count": 25,
   "id": "c215a303",
   "metadata": {
    "id": "c215a303"
   },
   "outputs": [],
   "source": [
    "from sklearn.preprocessing import LabelEncoder\n",
    "en=LabelEncoder()\n",
    "tweet_df['sentiment']=en.fit_transform(tweet_df['sentiment'])"
   ]
  },
  {
   "cell_type": "code",
   "execution_count": 26,
   "id": "05248d24",
   "metadata": {
    "id": "05248d24",
    "outputId": "816b8203-47c2-4af2-efc2-59468720d87f"
   },
   "outputs": [
    {
     "data": {
      "text/html": [
       "<div>\n",
       "<style scoped>\n",
       "    .dataframe tbody tr th:only-of-type {\n",
       "        vertical-align: middle;\n",
       "    }\n",
       "\n",
       "    .dataframe tbody tr th {\n",
       "        vertical-align: top;\n",
       "    }\n",
       "\n",
       "    .dataframe thead th {\n",
       "        text-align: right;\n",
       "    }\n",
       "</style>\n",
       "<table border=\"1\" class=\"dataframe\">\n",
       "  <thead>\n",
       "    <tr style=\"text-align: right;\">\n",
       "      <th></th>\n",
       "      <th>sentiment</th>\n",
       "      <th>tweet</th>\n",
       "    </tr>\n",
       "  </thead>\n",
       "  <tbody>\n",
       "    <tr>\n",
       "      <th>0</th>\n",
       "      <td>0</td>\n",
       "      <td>azizijones bad took away computer</td>\n",
       "    </tr>\n",
       "    <tr>\n",
       "      <th>1</th>\n",
       "      <td>0</td>\n",
       "      <td>dancing tonight fairly bummed</td>\n",
       "    </tr>\n",
       "    <tr>\n",
       "      <th>2</th>\n",
       "      <td>0</td>\n",
       "      <td>id prolly bombay half day next sunday wish cou...</td>\n",
       "    </tr>\n",
       "    <tr>\n",
       "      <th>3</th>\n",
       "      <td>0</td>\n",
       "      <td>know even though still fell asleep lot haha sh...</td>\n",
       "    </tr>\n",
       "    <tr>\n",
       "      <th>4</th>\n",
       "      <td>1</td>\n",
       "      <td>got b minor down slightly</td>\n",
       "    </tr>\n",
       "    <tr>\n",
       "      <th>...</th>\n",
       "      <td>...</td>\n",
       "      <td>...</td>\n",
       "    </tr>\n",
       "    <tr>\n",
       "      <th>79995</th>\n",
       "      <td>1</td>\n",
       "      <td>daewok 2 golden retrievers never ever bored</td>\n",
       "    </tr>\n",
       "    <tr>\n",
       "      <th>79996</th>\n",
       "      <td>1</td>\n",
       "      <td>kimshahan im still 2 needs sleep anyways</td>\n",
       "    </tr>\n",
       "    <tr>\n",
       "      <th>79997</th>\n",
       "      <td>1</td>\n",
       "      <td>im hoping break djangopython summer httpisgdjz...</td>\n",
       "    </tr>\n",
       "    <tr>\n",
       "      <th>79998</th>\n",
       "      <td>0</td>\n",
       "      <td>hermorrine car stereo im sorry still feeling w...</td>\n",
       "    </tr>\n",
       "    <tr>\n",
       "      <th>79999</th>\n",
       "      <td>0</td>\n",
       "      <td>jealous agec branddna tried free tix avail</td>\n",
       "    </tr>\n",
       "  </tbody>\n",
       "</table>\n",
       "<p>80000 rows × 2 columns</p>\n",
       "</div>"
      ],
      "text/plain": [
       "       sentiment                                              tweet\n",
       "0              0                  azizijones bad took away computer\n",
       "1              0                      dancing tonight fairly bummed\n",
       "2              0  id prolly bombay half day next sunday wish cou...\n",
       "3              0  know even though still fell asleep lot haha sh...\n",
       "4              1                          got b minor down slightly\n",
       "...          ...                                                ...\n",
       "79995          1        daewok 2 golden retrievers never ever bored\n",
       "79996          1           kimshahan im still 2 needs sleep anyways\n",
       "79997          1  im hoping break djangopython summer httpisgdjz...\n",
       "79998          0  hermorrine car stereo im sorry still feeling w...\n",
       "79999          0         jealous agec branddna tried free tix avail\n",
       "\n",
       "[80000 rows x 2 columns]"
      ]
     },
     "execution_count": 26,
     "metadata": {},
     "output_type": "execute_result"
    }
   ],
   "source": [
    "tweet_df"
   ]
  },
  {
   "cell_type": "markdown",
   "id": "444a06b8",
   "metadata": {},
   "source": [
    "### Splitting the Data"
   ]
  },
  {
   "cell_type": "code",
   "execution_count": 27,
   "id": "11005245",
   "metadata": {
    "id": "11005245"
   },
   "outputs": [],
   "source": [
    "x = tweet_df['tweet']\n",
    "y = tweet_df['sentiment']"
   ]
  },
  {
   "cell_type": "code",
   "execution_count": 28,
   "id": "f9f88eeb",
   "metadata": {
    "id": "f9f88eeb"
   },
   "outputs": [],
   "source": [
    "from sklearn.model_selection import train_test_split\n",
    "x_train, x_test, y_train, y_test=train_test_split(x, y, test_size=0.25, random_state=42)"
   ]
  },
  {
   "cell_type": "code",
   "execution_count": 29,
   "id": "9e3f0f4c",
   "metadata": {
    "id": "9e3f0f4c"
   },
   "outputs": [],
   "source": [
    "train_size = int(tweet_df.shape[0]*0.8)\n",
    "x_train = tweet_df['tweet'][:train_size]\n",
    "y_train = tweet_df['sentiment'][:train_size]\n",
    "\n",
    "x_test = tweet_df['tweet'][train_size:]\n",
    "y_test = tweet_df['sentiment'][train_size:]"
   ]
  },
  {
   "cell_type": "code",
   "execution_count": 30,
   "id": "f40088e4",
   "metadata": {
    "id": "f40088e4",
    "outputId": "d7cdee23-edad-4352-98d1-a6650e601208"
   },
   "outputs": [
    {
     "data": {
      "text/plain": [
       "(64000, (64000,), (64000,), (16000,), (16000,))"
      ]
     },
     "execution_count": 30,
     "metadata": {},
     "output_type": "execute_result"
    }
   ],
   "source": [
    "train_size, x_train.shape, y_train.shape, x_test.shape, y_test.shape"
   ]
  },
  {
   "cell_type": "markdown",
   "id": "acab70ba",
   "metadata": {},
   "source": [
    "### Tokenizing & Padding"
   ]
  },
  {
   "cell_type": "code",
   "execution_count": 31,
   "id": "e7a938b5",
   "metadata": {
    "id": "e7a938b5"
   },
   "outputs": [],
   "source": [
    "tokenizer = Tokenizer(num_words)\n",
    "tokenizer.fit_on_texts(x_train)\n",
    "x_train = tokenizer.texts_to_sequences(x_train)\n",
    "x_train = pad_sequences(x_train, maxlen = 30, truncating = 'post', padding='post')"
   ]
  },
  {
   "cell_type": "code",
   "execution_count": 32,
   "id": "928f0f2c",
   "metadata": {
    "id": "928f0f2c",
    "outputId": "d4c7f350-eab6-4177-d40b-7ce5912cd519"
   },
   "outputs": [
    {
     "data": {
      "text/plain": [
       "(array([1092,   57, 3853,  891,    0,    0,    0,    0,    0,    0,    0,\n",
       "           0,    0,    0,    0,    0,    0,    0,    0,    0,    0,    0,\n",
       "           0,    0,    0,    0,    0,    0,    0,    0], dtype=int32),\n",
       " 30)"
      ]
     },
     "execution_count": 32,
     "metadata": {},
     "output_type": "execute_result"
    }
   ],
   "source": [
    "x_train[1], len(x_train[1])"
   ]
  },
  {
   "cell_type": "code",
   "execution_count": 33,
   "id": "bcb222a5",
   "metadata": {
    "id": "bcb222a5"
   },
   "outputs": [],
   "source": [
    "x_test = tokenizer.texts_to_sequences(x_test)\n",
    "x_test = pad_sequences(x_test, maxlen = 30, truncating = 'post', padding='post')"
   ]
  },
  {
   "cell_type": "code",
   "execution_count": 34,
   "id": "b52324dd",
   "metadata": {
    "id": "b52324dd",
    "outputId": "fca6f872-faed-4da2-9b04-d3388aa5db83"
   },
   "outputs": [
    {
     "data": {
      "text/plain": [
       "((64000, 30), (64000,), (16000, 30), (16000,))"
      ]
     },
     "execution_count": 34,
     "metadata": {},
     "output_type": "execute_result"
    }
   ],
   "source": [
    "x_train.shape, y_train.shape, x_test.shape, y_test.shape"
   ]
  },
  {
   "cell_type": "markdown",
   "id": "af02b859",
   "metadata": {},
   "source": [
    "### LSTM Model Building"
   ]
  },
  {
   "cell_type": "code",
   "execution_count": 35,
   "id": "7bea7402",
   "metadata": {
    "id": "7bea7402",
    "outputId": "e2ca64c2-a9a9-4bfb-8d44-b85281785aae",
    "scrolled": false
   },
   "outputs": [
    {
     "name": "stderr",
     "output_type": "stream",
     "text": [
      "2023-05-13 13:57:34.590533: I tensorflow/core/common_runtime/executor.cc:1197] [/device:CPU:0] (DEBUG INFO) Executor start aborting (this does not indicate an error and you can ignore this message): INVALID_ARGUMENT: You must feed a value for placeholder tensor 'gradients/split_2_grad/concat/split_2/split_dim' with dtype int32\n",
      "\t [[{{node gradients/split_2_grad/concat/split_2/split_dim}}]]\n",
      "2023-05-13 13:57:34.593444: I tensorflow/core/common_runtime/executor.cc:1197] [/device:CPU:0] (DEBUG INFO) Executor start aborting (this does not indicate an error and you can ignore this message): INVALID_ARGUMENT: You must feed a value for placeholder tensor 'gradients/split_grad/concat/split/split_dim' with dtype int32\n",
      "\t [[{{node gradients/split_grad/concat/split/split_dim}}]]\n",
      "2023-05-13 13:57:34.596042: I tensorflow/core/common_runtime/executor.cc:1197] [/device:CPU:0] (DEBUG INFO) Executor start aborting (this does not indicate an error and you can ignore this message): INVALID_ARGUMENT: You must feed a value for placeholder tensor 'gradients/split_1_grad/concat/split_1/split_dim' with dtype int32\n",
      "\t [[{{node gradients/split_1_grad/concat/split_1/split_dim}}]]\n"
     ]
    },
    {
     "name": "stdout",
     "output_type": "stream",
     "text": [
      "Model: \"sequential\"\n",
      "_________________________________________________________________\n",
      " Layer (type)                Output Shape              Param #   \n",
      "=================================================================\n",
      " embedding (Embedding)       (None, 30, 100)           8000000   \n",
      "                                                                 \n",
      " lstm (LSTM)                 (None, 30, 100)           80400     \n",
      "                                                                 \n",
      " lstm_1 (LSTM)               (None, 100)               80400     \n",
      "                                                                 \n",
      " dense (Dense)               (None, 1)                 101       \n",
      "                                                                 \n",
      "=================================================================\n",
      "Total params: 8,160,901\n",
      "Trainable params: 8,160,901\n",
      "Non-trainable params: 0\n",
      "_________________________________________________________________\n"
     ]
    },
    {
     "name": "stderr",
     "output_type": "stream",
     "text": [
      "2023-05-13 13:57:34.998002: I tensorflow/core/common_runtime/executor.cc:1197] [/device:CPU:0] (DEBUG INFO) Executor start aborting (this does not indicate an error and you can ignore this message): INVALID_ARGUMENT: You must feed a value for placeholder tensor 'gradients/split_2_grad/concat/split_2/split_dim' with dtype int32\n",
      "\t [[{{node gradients/split_2_grad/concat/split_2/split_dim}}]]\n",
      "2023-05-13 13:57:35.001006: I tensorflow/core/common_runtime/executor.cc:1197] [/device:CPU:0] (DEBUG INFO) Executor start aborting (this does not indicate an error and you can ignore this message): INVALID_ARGUMENT: You must feed a value for placeholder tensor 'gradients/split_grad/concat/split/split_dim' with dtype int32\n",
      "\t [[{{node gradients/split_grad/concat/split/split_dim}}]]\n",
      "2023-05-13 13:57:35.003154: I tensorflow/core/common_runtime/executor.cc:1197] [/device:CPU:0] (DEBUG INFO) Executor start aborting (this does not indicate an error and you can ignore this message): INVALID_ARGUMENT: You must feed a value for placeholder tensor 'gradients/split_1_grad/concat/split_1/split_dim' with dtype int32\n",
      "\t [[{{node gradients/split_1_grad/concat/split_1/split_dim}}]]\n"
     ]
    }
   ],
   "source": [
    "lstm_model =  Sequential()\n",
    "lstm_model.add(Embedding(input_dim=num_words, output_dim=100, input_length=30, trainable=True))\n",
    "lstm_model.add(LSTM(100, dropout=0.1, return_sequences=True))\n",
    "lstm_model.add(LSTM(100, dropout=0.1))\n",
    "lstm_model.add(Dense(1, activation='sigmoid'))\n",
    "lstm_model.summary()"
   ]
  },
  {
   "cell_type": "markdown",
   "id": "fdcb2dce",
   "metadata": {},
   "source": [
    "### Compile & Fit the Model"
   ]
  },
  {
   "cell_type": "code",
   "execution_count": 36,
   "id": "4a5d9bb8",
   "metadata": {
    "id": "4a5d9bb8"
   },
   "outputs": [],
   "source": [
    "lstm_model.compile(loss='binary_crossentropy', optimizer = 'adam', metrics = ['accuracy'])"
   ]
  },
  {
   "cell_type": "code",
   "execution_count": 37,
   "id": "a3245202",
   "metadata": {
    "id": "a3245202"
   },
   "outputs": [],
   "source": [
    "import tensorflow as tf\n",
    "early_stopping=tf.keras.callbacks.EarlyStopping(\n",
    "    monitor=\"val_loss\",\n",
    "    min_delta=0.001,\n",
    "    patience=5,\n",
    "    verbose=1,\n",
    "    mode=\"auto\",\n",
    "    baseline=None,\n",
    "    restore_best_weights=False,\n",
    ")"
   ]
  },
  {
   "cell_type": "code",
   "execution_count": 38,
   "id": "7596e8f2",
   "metadata": {
    "id": "7596e8f2",
    "outputId": "fe9e9671-cc11-4609-c510-29674d8e57ee",
    "scrolled": false
   },
   "outputs": [
    {
     "name": "stdout",
     "output_type": "stream",
     "text": [
      "Epoch 1/100\n"
     ]
    },
    {
     "name": "stderr",
     "output_type": "stream",
     "text": [
      "2023-05-13 13:58:17.391859: I tensorflow/core/common_runtime/executor.cc:1197] [/device:CPU:0] (DEBUG INFO) Executor start aborting (this does not indicate an error and you can ignore this message): INVALID_ARGUMENT: You must feed a value for placeholder tensor 'gradients/split_2_grad/concat/split_2/split_dim' with dtype int32\n",
      "\t [[{{node gradients/split_2_grad/concat/split_2/split_dim}}]]\n",
      "2023-05-13 13:58:17.393798: I tensorflow/core/common_runtime/executor.cc:1197] [/device:CPU:0] (DEBUG INFO) Executor start aborting (this does not indicate an error and you can ignore this message): INVALID_ARGUMENT: You must feed a value for placeholder tensor 'gradients/split_grad/concat/split/split_dim' with dtype int32\n",
      "\t [[{{node gradients/split_grad/concat/split/split_dim}}]]\n",
      "2023-05-13 13:58:17.395554: I tensorflow/core/common_runtime/executor.cc:1197] [/device:CPU:0] (DEBUG INFO) Executor start aborting (this does not indicate an error and you can ignore this message): INVALID_ARGUMENT: You must feed a value for placeholder tensor 'gradients/split_1_grad/concat/split_1/split_dim' with dtype int32\n",
      "\t [[{{node gradients/split_1_grad/concat/split_1/split_dim}}]]\n",
      "2023-05-13 13:58:17.930857: I tensorflow/core/common_runtime/executor.cc:1197] [/device:CPU:0] (DEBUG INFO) Executor start aborting (this does not indicate an error and you can ignore this message): INVALID_ARGUMENT: You must feed a value for placeholder tensor 'gradients/split_2_grad/concat/split_2/split_dim' with dtype int32\n",
      "\t [[{{node gradients/split_2_grad/concat/split_2/split_dim}}]]\n",
      "2023-05-13 13:58:17.935196: I tensorflow/core/common_runtime/executor.cc:1197] [/device:CPU:0] (DEBUG INFO) Executor start aborting (this does not indicate an error and you can ignore this message): INVALID_ARGUMENT: You must feed a value for placeholder tensor 'gradients/split_grad/concat/split/split_dim' with dtype int32\n",
      "\t [[{{node gradients/split_grad/concat/split/split_dim}}]]\n",
      "2023-05-13 13:58:17.938745: I tensorflow/core/common_runtime/executor.cc:1197] [/device:CPU:0] (DEBUG INFO) Executor start aborting (this does not indicate an error and you can ignore this message): INVALID_ARGUMENT: You must feed a value for placeholder tensor 'gradients/split_1_grad/concat/split_1/split_dim' with dtype int32\n",
      "\t [[{{node gradients/split_1_grad/concat/split_1/split_dim}}]]\n",
      "2023-05-13 13:58:19.786532: I tensorflow/core/common_runtime/executor.cc:1197] [/device:CPU:0] (DEBUG INFO) Executor start aborting (this does not indicate an error and you can ignore this message): INVALID_ARGUMENT: You must feed a value for placeholder tensor 'gradients/split_2_grad/concat/split_2/split_dim' with dtype int32\n",
      "\t [[{{node gradients/split_2_grad/concat/split_2/split_dim}}]]\n",
      "2023-05-13 13:58:19.791943: I tensorflow/core/common_runtime/executor.cc:1197] [/device:CPU:0] (DEBUG INFO) Executor start aborting (this does not indicate an error and you can ignore this message): INVALID_ARGUMENT: You must feed a value for placeholder tensor 'gradients/split_grad/concat/split/split_dim' with dtype int32\n",
      "\t [[{{node gradients/split_grad/concat/split/split_dim}}]]\n",
      "2023-05-13 13:58:19.797208: I tensorflow/core/common_runtime/executor.cc:1197] [/device:CPU:0] (DEBUG INFO) Executor start aborting (this does not indicate an error and you can ignore this message): INVALID_ARGUMENT: You must feed a value for placeholder tensor 'gradients/split_1_grad/concat/split_1/split_dim' with dtype int32\n",
      "\t [[{{node gradients/split_1_grad/concat/split_1/split_dim}}]]\n",
      "2023-05-13 13:58:20.230023: I tensorflow/core/common_runtime/executor.cc:1197] [/device:CPU:0] (DEBUG INFO) Executor start aborting (this does not indicate an error and you can ignore this message): INVALID_ARGUMENT: You must feed a value for placeholder tensor 'gradients/split_2_grad/concat/split_2/split_dim' with dtype int32\n",
      "\t [[{{node gradients/split_2_grad/concat/split_2/split_dim}}]]\n",
      "2023-05-13 13:58:20.233296: I tensorflow/core/common_runtime/executor.cc:1197] [/device:CPU:0] (DEBUG INFO) Executor start aborting (this does not indicate an error and you can ignore this message): INVALID_ARGUMENT: You must feed a value for placeholder tensor 'gradients/split_grad/concat/split/split_dim' with dtype int32\n",
      "\t [[{{node gradients/split_grad/concat/split/split_dim}}]]\n",
      "2023-05-13 13:58:20.236157: I tensorflow/core/common_runtime/executor.cc:1197] [/device:CPU:0] (DEBUG INFO) Executor start aborting (this does not indicate an error and you can ignore this message): INVALID_ARGUMENT: You must feed a value for placeholder tensor 'gradients/split_1_grad/concat/split_1/split_dim' with dtype int32\n",
      "\t [[{{node gradients/split_1_grad/concat/split_1/split_dim}}]]\n"
     ]
    },
    {
     "name": "stdout",
     "output_type": "stream",
     "text": [
      "250/250 [==============================] - ETA: 0s - loss: 0.5568 - accuracy: 0.7005"
     ]
    },
    {
     "name": "stderr",
     "output_type": "stream",
     "text": [
      "2023-05-13 14:00:13.167154: I tensorflow/core/common_runtime/executor.cc:1197] [/device:CPU:0] (DEBUG INFO) Executor start aborting (this does not indicate an error and you can ignore this message): INVALID_ARGUMENT: You must feed a value for placeholder tensor 'gradients/split_2_grad/concat/split_2/split_dim' with dtype int32\n",
      "\t [[{{node gradients/split_2_grad/concat/split_2/split_dim}}]]\n",
      "2023-05-13 14:00:13.170143: I tensorflow/core/common_runtime/executor.cc:1197] [/device:CPU:0] (DEBUG INFO) Executor start aborting (this does not indicate an error and you can ignore this message): INVALID_ARGUMENT: You must feed a value for placeholder tensor 'gradients/split_grad/concat/split/split_dim' with dtype int32\n",
      "\t [[{{node gradients/split_grad/concat/split/split_dim}}]]\n",
      "2023-05-13 14:00:13.172679: I tensorflow/core/common_runtime/executor.cc:1197] [/device:CPU:0] (DEBUG INFO) Executor start aborting (this does not indicate an error and you can ignore this message): INVALID_ARGUMENT: You must feed a value for placeholder tensor 'gradients/split_1_grad/concat/split_1/split_dim' with dtype int32\n",
      "\t [[{{node gradients/split_1_grad/concat/split_1/split_dim}}]]\n",
      "2023-05-13 14:00:13.587650: I tensorflow/core/common_runtime/executor.cc:1197] [/device:CPU:0] (DEBUG INFO) Executor start aborting (this does not indicate an error and you can ignore this message): INVALID_ARGUMENT: You must feed a value for placeholder tensor 'gradients/split_2_grad/concat/split_2/split_dim' with dtype int32\n",
      "\t [[{{node gradients/split_2_grad/concat/split_2/split_dim}}]]\n",
      "2023-05-13 14:00:13.590924: I tensorflow/core/common_runtime/executor.cc:1197] [/device:CPU:0] (DEBUG INFO) Executor start aborting (this does not indicate an error and you can ignore this message): INVALID_ARGUMENT: You must feed a value for placeholder tensor 'gradients/split_grad/concat/split/split_dim' with dtype int32\n",
      "\t [[{{node gradients/split_grad/concat/split/split_dim}}]]\n",
      "2023-05-13 14:00:13.593464: I tensorflow/core/common_runtime/executor.cc:1197] [/device:CPU:0] (DEBUG INFO) Executor start aborting (this does not indicate an error and you can ignore this message): INVALID_ARGUMENT: You must feed a value for placeholder tensor 'gradients/split_1_grad/concat/split_1/split_dim' with dtype int32\n",
      "\t [[{{node gradients/split_1_grad/concat/split_1/split_dim}}]]\n"
     ]
    },
    {
     "name": "stdout",
     "output_type": "stream",
     "text": [
      "250/250 [==============================] - 123s 468ms/step - loss: 0.5568 - accuracy: 0.7005 - val_loss: 0.5044 - val_accuracy: 0.7555\n",
      "Epoch 2/100\n",
      "250/250 [==============================] - 115s 459ms/step - loss: 0.3755 - accuracy: 0.8383 - val_loss: 0.5407 - val_accuracy: 0.7447\n",
      "Epoch 3/100\n",
      "250/250 [==============================] - 168s 673ms/step - loss: 0.2331 - accuracy: 0.9077 - val_loss: 0.7257 - val_accuracy: 0.7183\n",
      "Epoch 4/100\n",
      "250/250 [==============================] - 134s 536ms/step - loss: 0.1585 - accuracy: 0.9375 - val_loss: 0.9274 - val_accuracy: 0.7166\n",
      "Epoch 5/100\n",
      "250/250 [==============================] - 188s 754ms/step - loss: 0.1249 - accuracy: 0.9501 - val_loss: 0.8178 - val_accuracy: 0.7134\n",
      "Epoch 6/100\n",
      "250/250 [==============================] - 201s 804ms/step - loss: 0.1007 - accuracy: 0.9590 - val_loss: 0.9962 - val_accuracy: 0.7143\n",
      "Epoch 6: early stopping\n"
     ]
    }
   ],
   "source": [
    "history = lstm_model.fit(x_train, y_train, epochs=100, batch_size=256, \n",
    "              validation_data=(x_test, y_test), callbacks=early_stopping, verbose=True)"
   ]
  },
  {
   "cell_type": "code",
   "execution_count": 40,
   "id": "df05e08c",
   "metadata": {
    "id": "df05e08c",
    "outputId": "e7690648-d1b5-4e19-94a1-08fea7b36ad1"
   },
   "outputs": [
    {
     "data": {
      "image/png": "[encoded data removed]",
      "text/plain": [
       "<Figure size 640x480 with 1 Axes>"
      ]
     },
     "metadata": {},
     "output_type": "display_data"
    }
   ],
   "source": [
    "plt.plot(history.history['accuracy'])\n",
    "plt.plot(history.history['val_accuracy'])\n",
    "plt.title(\"Model Accuracy\")\n",
    "plt.xlabel('Epochs')\n",
    "plt.ylabel('Accuracy')\n",
    "plt.legend(['train', 'val'], loc='upper left')\n",
    "plt.show()"
   ]
  },
  {
   "cell_type": "code",
   "execution_count": 41,
   "id": "0550ceb2",
   "metadata": {
    "id": "0550ceb2",
    "outputId": "82017b89-1b08-4666-a72d-904ed31f2295"
   },
   "outputs": [
    {
     "data": {
      "image/png": "[encoded data removed]",
      "text/plain": [
       "<Figure size 640x480 with 1 Axes>"
      ]
     },
     "metadata": {},
     "output_type": "display_data"
    }
   ],
   "source": [
    "plt.plot(history.history['loss'])\n",
    "plt.plot(history.history['val_loss'])\n",
    "plt.title(\"Model Loss\")\n",
    "plt.xlabel('Epochs')\n",
    "plt.ylabel('Loss')\n",
    "plt.legend(['train', 'val'], loc='upper left')\n",
    "plt.show()"
   ]
  },
  {
   "cell_type": "code",
   "execution_count": 42,
   "id": "dc196a0f",
   "metadata": {
    "id": "dc196a0f",
    "outputId": "129fc1b7-6d55-4e76-8f23-0e7fa5e9ccf1"
   },
   "outputs": [
    {
     "name": "stdout",
     "output_type": "stream",
     "text": [
      "500/500 [==============================] - 20s 40ms/step - loss: 0.9962 - accuracy: 0.7143\n"
     ]
    },
    {
     "data": {
      "text/plain": [
       "[0.9961506128311157, 0.7142500281333923]"
      ]
     },
     "execution_count": 42,
     "metadata": {},
     "output_type": "execute_result"
    }
   ],
   "source": [
    "lstm_model.evaluate(x_test, y_test)"
   ]
  },
  {
   "cell_type": "markdown",
   "id": "016b9337",
   "metadata": {
    "id": "e916836d"
   },
   "source": [
    "So we got 71.43% Test Accuracy with LSTM Model."
   ]
  },
  {
   "cell_type": "markdown",
   "id": "cc5381c7",
   "metadata": {},
   "source": [
    "### GRU Building Model"
   ]
  },
  {
   "cell_type": "code",
   "execution_count": 43,
   "id": "c6e9225a",
   "metadata": {},
   "outputs": [],
   "source": [
    "from tensorflow.keras.layers import Embedding, GRU, Dense"
   ]
  },
  {
   "cell_type": "code",
   "execution_count": 44,
   "id": "e0a0ca32",
   "metadata": {
    "scrolled": false
   },
   "outputs": [
    {
     "name": "stderr",
     "output_type": "stream",
     "text": [
      "2023-05-13 14:58:35.600834: I tensorflow/core/common_runtime/executor.cc:1197] [/device:CPU:0] (DEBUG INFO) Executor start aborting (this does not indicate an error and you can ignore this message): INVALID_ARGUMENT: You must feed a value for placeholder tensor 'gradients/split_2_grad/concat/split_2/split_dim' with dtype int32\n",
      "\t [[{{node gradients/split_2_grad/concat/split_2/split_dim}}]]\n",
      "2023-05-13 14:58:35.606131: I tensorflow/core/common_runtime/executor.cc:1197] [/device:CPU:0] (DEBUG INFO) Executor start aborting (this does not indicate an error and you can ignore this message): INVALID_ARGUMENT: You must feed a value for placeholder tensor 'gradients/split_grad/concat/split/split_dim' with dtype int32\n",
      "\t [[{{node gradients/split_grad/concat/split/split_dim}}]]\n",
      "2023-05-13 14:58:35.609746: I tensorflow/core/common_runtime/executor.cc:1197] [/device:CPU:0] (DEBUG INFO) Executor start aborting (this does not indicate an error and you can ignore this message): INVALID_ARGUMENT: You must feed a value for placeholder tensor 'gradients/split_1_grad/concat/split_1/split_dim' with dtype int32\n",
      "\t [[{{node gradients/split_1_grad/concat/split_1/split_dim}}]]\n",
      "2023-05-13 14:58:36.075722: I tensorflow/core/common_runtime/executor.cc:1197] [/device:CPU:0] (DEBUG INFO) Executor start aborting (this does not indicate an error and you can ignore this message): INVALID_ARGUMENT: You must feed a value for placeholder tensor 'gradients/split_2_grad/concat/split_2/split_dim' with dtype int32\n",
      "\t [[{{node gradients/split_2_grad/concat/split_2/split_dim}}]]\n",
      "2023-05-13 14:58:36.078097: I tensorflow/core/common_runtime/executor.cc:1197] [/device:CPU:0] (DEBUG INFO) Executor start aborting (this does not indicate an error and you can ignore this message): INVALID_ARGUMENT: You must feed a value for placeholder tensor 'gradients/split_grad/concat/split/split_dim' with dtype int32\n",
      "\t [[{{node gradients/split_grad/concat/split/split_dim}}]]\n",
      "2023-05-13 14:58:36.080692: I tensorflow/core/common_runtime/executor.cc:1197] [/device:CPU:0] (DEBUG INFO) Executor start aborting (this does not indicate an error and you can ignore this message): INVALID_ARGUMENT: You must feed a value for placeholder tensor 'gradients/split_1_grad/concat/split_1/split_dim' with dtype int32\n",
      "\t [[{{node gradients/split_1_grad/concat/split_1/split_dim}}]]\n"
     ]
    },
    {
     "name": "stdout",
     "output_type": "stream",
     "text": [
      "Epoch 1/10\n"
     ]
    },
    {
     "name": "stderr",
     "output_type": "stream",
     "text": [
      "2023-05-13 14:58:36.770301: I tensorflow/core/common_runtime/executor.cc:1197] [/device:CPU:0] (DEBUG INFO) Executor start aborting (this does not indicate an error and you can ignore this message): INVALID_ARGUMENT: You must feed a value for placeholder tensor 'gradients/split_2_grad/concat/split_2/split_dim' with dtype int32\n",
      "\t [[{{node gradients/split_2_grad/concat/split_2/split_dim}}]]\n",
      "2023-05-13 14:58:36.773780: I tensorflow/core/common_runtime/executor.cc:1197] [/device:CPU:0] (DEBUG INFO) Executor start aborting (this does not indicate an error and you can ignore this message): INVALID_ARGUMENT: You must feed a value for placeholder tensor 'gradients/split_grad/concat/split/split_dim' with dtype int32\n",
      "\t [[{{node gradients/split_grad/concat/split/split_dim}}]]\n",
      "2023-05-13 14:58:36.776369: I tensorflow/core/common_runtime/executor.cc:1197] [/device:CPU:0] (DEBUG INFO) Executor start aborting (this does not indicate an error and you can ignore this message): INVALID_ARGUMENT: You must feed a value for placeholder tensor 'gradients/split_1_grad/concat/split_1/split_dim' with dtype int32\n",
      "\t [[{{node gradients/split_1_grad/concat/split_1/split_dim}}]]\n",
      "2023-05-13 14:58:37.215538: I tensorflow/core/common_runtime/executor.cc:1197] [/device:CPU:0] (DEBUG INFO) Executor start aborting (this does not indicate an error and you can ignore this message): INVALID_ARGUMENT: You must feed a value for placeholder tensor 'gradients/split_2_grad/concat/split_2/split_dim' with dtype int32\n",
      "\t [[{{node gradients/split_2_grad/concat/split_2/split_dim}}]]\n",
      "2023-05-13 14:58:37.219478: I tensorflow/core/common_runtime/executor.cc:1197] [/device:CPU:0] (DEBUG INFO) Executor start aborting (this does not indicate an error and you can ignore this message): INVALID_ARGUMENT: You must feed a value for placeholder tensor 'gradients/split_grad/concat/split/split_dim' with dtype int32\n",
      "\t [[{{node gradients/split_grad/concat/split/split_dim}}]]\n",
      "2023-05-13 14:58:37.221977: I tensorflow/core/common_runtime/executor.cc:1197] [/device:CPU:0] (DEBUG INFO) Executor start aborting (this does not indicate an error and you can ignore this message): INVALID_ARGUMENT: You must feed a value for placeholder tensor 'gradients/split_1_grad/concat/split_1/split_dim' with dtype int32\n",
      "\t [[{{node gradients/split_1_grad/concat/split_1/split_dim}}]]\n",
      "2023-05-13 14:58:39.110349: I tensorflow/core/common_runtime/executor.cc:1197] [/device:CPU:0] (DEBUG INFO) Executor start aborting (this does not indicate an error and you can ignore this message): INVALID_ARGUMENT: You must feed a value for placeholder tensor 'gradients/split_2_grad/concat/split_2/split_dim' with dtype int32\n",
      "\t [[{{node gradients/split_2_grad/concat/split_2/split_dim}}]]\n",
      "2023-05-13 14:58:39.113003: I tensorflow/core/common_runtime/executor.cc:1197] [/device:CPU:0] (DEBUG INFO) Executor start aborting (this does not indicate an error and you can ignore this message): INVALID_ARGUMENT: You must feed a value for placeholder tensor 'gradients/split_grad/concat/split/split_dim' with dtype int32\n",
      "\t [[{{node gradients/split_grad/concat/split/split_dim}}]]\n",
      "2023-05-13 14:58:39.115152: I tensorflow/core/common_runtime/executor.cc:1197] [/device:CPU:0] (DEBUG INFO) Executor start aborting (this does not indicate an error and you can ignore this message): INVALID_ARGUMENT: You must feed a value for placeholder tensor 'gradients/split_1_grad/concat/split_1/split_dim' with dtype int32\n",
      "\t [[{{node gradients/split_1_grad/concat/split_1/split_dim}}]]\n",
      "2023-05-13 14:58:39.452089: I tensorflow/core/common_runtime/executor.cc:1197] [/device:CPU:0] (DEBUG INFO) Executor start aborting (this does not indicate an error and you can ignore this message): INVALID_ARGUMENT: You must feed a value for placeholder tensor 'gradients/split_2_grad/concat/split_2/split_dim' with dtype int32\n",
      "\t [[{{node gradients/split_2_grad/concat/split_2/split_dim}}]]\n",
      "2023-05-13 14:58:39.454865: I tensorflow/core/common_runtime/executor.cc:1197] [/device:CPU:0] (DEBUG INFO) Executor start aborting (this does not indicate an error and you can ignore this message): INVALID_ARGUMENT: You must feed a value for placeholder tensor 'gradients/split_grad/concat/split/split_dim' with dtype int32\n",
      "\t [[{{node gradients/split_grad/concat/split/split_dim}}]]\n",
      "2023-05-13 14:58:39.456764: I tensorflow/core/common_runtime/executor.cc:1197] [/device:CPU:0] (DEBUG INFO) Executor start aborting (this does not indicate an error and you can ignore this message): INVALID_ARGUMENT: You must feed a value for placeholder tensor 'gradients/split_1_grad/concat/split_1/split_dim' with dtype int32\n",
      "\t [[{{node gradients/split_1_grad/concat/split_1/split_dim}}]]\n"
     ]
    },
    {
     "name": "stdout",
     "output_type": "stream",
     "text": [
      "500/500 [==============================] - ETA: 0s - loss: 0.6933 - accuracy: 0.4987"
     ]
    },
    {
     "name": "stderr",
     "output_type": "stream",
     "text": [
      "2023-05-13 15:01:30.641506: I tensorflow/core/common_runtime/executor.cc:1197] [/device:CPU:0] (DEBUG INFO) Executor start aborting (this does not indicate an error and you can ignore this message): INVALID_ARGUMENT: You must feed a value for placeholder tensor 'gradients/split_2_grad/concat/split_2/split_dim' with dtype int32\n",
      "\t [[{{node gradients/split_2_grad/concat/split_2/split_dim}}]]\n",
      "2023-05-13 15:01:30.647769: I tensorflow/core/common_runtime/executor.cc:1197] [/device:CPU:0] (DEBUG INFO) Executor start aborting (this does not indicate an error and you can ignore this message): INVALID_ARGUMENT: You must feed a value for placeholder tensor 'gradients/split_grad/concat/split/split_dim' with dtype int32\n",
      "\t [[{{node gradients/split_grad/concat/split/split_dim}}]]\n",
      "2023-05-13 15:01:30.651498: I tensorflow/core/common_runtime/executor.cc:1197] [/device:CPU:0] (DEBUG INFO) Executor start aborting (this does not indicate an error and you can ignore this message): INVALID_ARGUMENT: You must feed a value for placeholder tensor 'gradients/split_1_grad/concat/split_1/split_dim' with dtype int32\n",
      "\t [[{{node gradients/split_1_grad/concat/split_1/split_dim}}]]\n",
      "2023-05-13 15:01:31.069554: I tensorflow/core/common_runtime/executor.cc:1197] [/device:CPU:0] (DEBUG INFO) Executor start aborting (this does not indicate an error and you can ignore this message): INVALID_ARGUMENT: You must feed a value for placeholder tensor 'gradients/split_2_grad/concat/split_2/split_dim' with dtype int32\n",
      "\t [[{{node gradients/split_2_grad/concat/split_2/split_dim}}]]\n",
      "2023-05-13 15:01:31.072426: I tensorflow/core/common_runtime/executor.cc:1197] [/device:CPU:0] (DEBUG INFO) Executor start aborting (this does not indicate an error and you can ignore this message): INVALID_ARGUMENT: You must feed a value for placeholder tensor 'gradients/split_grad/concat/split/split_dim' with dtype int32\n",
      "\t [[{{node gradients/split_grad/concat/split/split_dim}}]]\n",
      "2023-05-13 15:01:31.074861: I tensorflow/core/common_runtime/executor.cc:1197] [/device:CPU:0] (DEBUG INFO) Executor start aborting (this does not indicate an error and you can ignore this message): INVALID_ARGUMENT: You must feed a value for placeholder tensor 'gradients/split_1_grad/concat/split_1/split_dim' with dtype int32\n",
      "\t [[{{node gradients/split_1_grad/concat/split_1/split_dim}}]]\n"
     ]
    },
    {
     "name": "stdout",
     "output_type": "stream",
     "text": [
      "500/500 [==============================] - 182s 349ms/step - loss: 0.6933 - accuracy: 0.4987 - val_loss: 0.6931 - val_accuracy: 0.5036\n",
      "Epoch 2/10\n",
      "500/500 [==============================] - 169s 338ms/step - loss: 0.5467 - accuracy: 0.7218 - val_loss: 0.4935 - val_accuracy: 0.7591\n",
      "Epoch 3/10\n",
      "500/500 [==============================] - 172s 345ms/step - loss: 0.3391 - accuracy: 0.8570 - val_loss: 0.5670 - val_accuracy: 0.7389\n",
      "Epoch 4/10\n",
      "500/500 [==============================] - 171s 342ms/step - loss: 0.1760 - accuracy: 0.9312 - val_loss: 0.6921 - val_accuracy: 0.7315\n",
      "Epoch 5/10\n",
      "500/500 [==============================] - 163s 327ms/step - loss: 0.1029 - accuracy: 0.9609 - val_loss: 0.8982 - val_accuracy: 0.7311\n",
      "Epoch 6/10\n",
      "500/500 [==============================] - 164s 327ms/step - loss: 0.0710 - accuracy: 0.9726 - val_loss: 1.0494 - val_accuracy: 0.7236\n",
      "Epoch 7/10\n",
      "500/500 [==============================] - 164s 327ms/step - loss: 0.0534 - accuracy: 0.9787 - val_loss: 1.1356 - val_accuracy: 0.7285\n",
      "Epoch 8/10\n",
      "500/500 [==============================] - 169s 338ms/step - loss: 0.0433 - accuracy: 0.9832 - val_loss: 1.3317 - val_accuracy: 0.7192\n",
      "Epoch 9/10\n",
      "500/500 [==============================] - 161s 323ms/step - loss: 0.0374 - accuracy: 0.9850 - val_loss: 1.3148 - val_accuracy: 0.7178\n",
      "Epoch 10/10\n",
      "500/500 [==============================] - 170s 339ms/step - loss: 0.0312 - accuracy: 0.9874 - val_loss: 1.4753 - val_accuracy: 0.7160\n"
     ]
    },
    {
     "data": {
      "text/plain": [
       "<keras.callbacks.History at 0x7f986f27fca0>"
      ]
     },
     "execution_count": 44,
     "metadata": {},
     "output_type": "execute_result"
    }
   ],
   "source": [
    "gru_model = Sequential()\n",
    "gru_model.add(Embedding(input_dim=num_words, output_dim=100, input_length=30, trainable=True))\n",
    "gru_model.add(GRU(100, dropout=0.1, return_sequences=True))\n",
    "gru_model.add(GRU(100, dropout=0.1))\n",
    "gru_model.add(Dense(1, activation='sigmoid'))\n",
    "\n",
    "gru_model.compile(optimizer='adam', loss='binary_crossentropy', metrics=['accuracy'])\n",
    "gru_model.fit(x_train, y_train, epochs=10, batch_size=128, validation_data=(x_test, y_test))"
   ]
  },
  {
   "cell_type": "code",
   "execution_count": 45,
   "id": "9412a59f",
   "metadata": {},
   "outputs": [
    {
     "name": "stderr",
     "output_type": "stream",
     "text": [
      "2023-05-13 16:06:31.691618: I tensorflow/core/common_runtime/executor.cc:1197] [/device:CPU:0] (DEBUG INFO) Executor start aborting (this does not indicate an error and you can ignore this message): INVALID_ARGUMENT: You must feed a value for placeholder tensor 'gradients/split_2_grad/concat/split_2/split_dim' with dtype int32\n",
      "\t [[{{node gradients/split_2_grad/concat/split_2/split_dim}}]]\n",
      "2023-05-13 16:06:31.695685: I tensorflow/core/common_runtime/executor.cc:1197] [/device:CPU:0] (DEBUG INFO) Executor start aborting (this does not indicate an error and you can ignore this message): INVALID_ARGUMENT: You must feed a value for placeholder tensor 'gradients/split_grad/concat/split/split_dim' with dtype int32\n",
      "\t [[{{node gradients/split_grad/concat/split/split_dim}}]]\n",
      "2023-05-13 16:06:31.698777: I tensorflow/core/common_runtime/executor.cc:1197] [/device:CPU:0] (DEBUG INFO) Executor start aborting (this does not indicate an error and you can ignore this message): INVALID_ARGUMENT: You must feed a value for placeholder tensor 'gradients/split_1_grad/concat/split_1/split_dim' with dtype int32\n",
      "\t [[{{node gradients/split_1_grad/concat/split_1/split_dim}}]]\n",
      "2023-05-13 16:06:32.070534: I tensorflow/core/common_runtime/executor.cc:1197] [/device:CPU:0] (DEBUG INFO) Executor start aborting (this does not indicate an error and you can ignore this message): INVALID_ARGUMENT: You must feed a value for placeholder tensor 'gradients/split_2_grad/concat/split_2/split_dim' with dtype int32\n",
      "\t [[{{node gradients/split_2_grad/concat/split_2/split_dim}}]]\n",
      "2023-05-13 16:06:32.073563: I tensorflow/core/common_runtime/executor.cc:1197] [/device:CPU:0] (DEBUG INFO) Executor start aborting (this does not indicate an error and you can ignore this message): INVALID_ARGUMENT: You must feed a value for placeholder tensor 'gradients/split_grad/concat/split/split_dim' with dtype int32\n",
      "\t [[{{node gradients/split_grad/concat/split/split_dim}}]]\n",
      "2023-05-13 16:06:32.075951: I tensorflow/core/common_runtime/executor.cc:1197] [/device:CPU:0] (DEBUG INFO) Executor start aborting (this does not indicate an error and you can ignore this message): INVALID_ARGUMENT: You must feed a value for placeholder tensor 'gradients/split_1_grad/concat/split_1/split_dim' with dtype int32\n",
      "\t [[{{node gradients/split_1_grad/concat/split_1/split_dim}}]]\n"
     ]
    },
    {
     "name": "stdout",
     "output_type": "stream",
     "text": [
      "500/500 [==============================] - 10s 18ms/step - loss: 1.4753 - accuracy: 0.7160\n"
     ]
    },
    {
     "data": {
      "text/plain": [
       "[1.4753390550613403, 0.7160000205039978]"
      ]
     },
     "execution_count": 45,
     "metadata": {},
     "output_type": "execute_result"
    }
   ],
   "source": [
    "gru_model.evaluate(x_test, y_test)"
   ]
  },
  {
   "cell_type": "markdown",
   "id": "0f68dbdb",
   "metadata": {},
   "source": [
    "GRU Model gives 71.60%, almost same as LSTM Model"
   ]
  },
  {
   "cell_type": "code",
   "execution_count": null,
   "id": "c6e6a8f7",
   "metadata": {},
   "outputs": [],
   "source": []
  }
 ],
 "metadata": {
  "colab": {
   "provenance": []
  },
  "kernelspec": {
   "display_name": "Python 3 (ipykernel)",
   "language": "python",
   "name": "python3"
  },
  "language_info": {
   "codemirror_mode": {
    "name": "ipython",
    "version": 3
   },
   "file_extension": ".py",
   "mimetype": "text/x-python",
   "name": "python",
   "nbconvert_exporter": "python",
   "pygments_lexer": "ipython3",
   "version": "3.9.13"
  }
 },
 "nbformat": 4,
 "nbformat_minor": 5
}
